{
 "cells": [
  {
   "cell_type": "code",
   "execution_count": 1,
   "id": "4ee313ab",
   "metadata": {},
   "outputs": [],
   "source": [
    "import pandas as pd\n",
    "import datetime as dt\n",
    "import numpy as np\n",
    "import matplotlib.pyplot as plt\n",
    "from pandas_datareader import data as pdr\n",
    "import yfinance as yf\n",
    "yf.pdr_override()\n",
    "from statsmodels.tsa.stattools import adfuller\n",
    "import statsmodels.api as sm\n",
    "import sklearn\n",
    "from sklearn import metrics\n",
    "import math"
   ]
  },
  {
   "cell_type": "markdown",
   "id": "a8326052",
   "metadata": {},
   "source": []
  },
  {
   "cell_type": "code",
   "execution_count": 2,
   "id": "83ba6971",
   "metadata": {},
   "outputs": [
    {
     "name": "stdout",
     "output_type": "stream",
     "text": [
      "[*********************100%***********************]  1 of 1 completed\n"
     ]
    }
   ],
   "source": [
    "start = dt.datetime(2009, 1, 1)\n",
    "end = dt.datetime(2021, 1, 1)\n",
    "\n",
    "data = pdr.get_data_yahoo('^DJI', start, end)\n",
    "data = data.reset_index()\n",
    "data = data.dropna()\n",
    "#data1 = data.copy()"
   ]
  },
  {
   "cell_type": "code",
   "execution_count": 3,
   "id": "1ae2f9d5",
   "metadata": {},
   "outputs": [],
   "source": [
    "train_data = data[data['Date']<\"2018-01-01\"]\n",
    "test_data = data[data['Date']>=\"2018-01-01\"]"
   ]
  },
  {
   "cell_type": "markdown",
   "id": "f82cd72b",
   "metadata": {},
   "source": [
    "# Data analysis"
   ]
  },
  {
   "cell_type": "code",
   "execution_count": 4,
   "id": "3587c02d",
   "metadata": {},
   "outputs": [
    {
     "data": {
      "text/html": [
       "<div>\n",
       "<style scoped>\n",
       "    .dataframe tbody tr th:only-of-type {\n",
       "        vertical-align: middle;\n",
       "    }\n",
       "\n",
       "    .dataframe tbody tr th {\n",
       "        vertical-align: top;\n",
       "    }\n",
       "\n",
       "    .dataframe thead th {\n",
       "        text-align: right;\n",
       "    }\n",
       "</style>\n",
       "<table border=\"1\" class=\"dataframe\">\n",
       "  <thead>\n",
       "    <tr style=\"text-align: right;\">\n",
       "      <th></th>\n",
       "      <th>Date</th>\n",
       "      <th>Open</th>\n",
       "      <th>High</th>\n",
       "      <th>Low</th>\n",
       "      <th>Close</th>\n",
       "      <th>Adj Close</th>\n",
       "      <th>Volume</th>\n",
       "    </tr>\n",
       "  </thead>\n",
       "  <tbody>\n",
       "    <tr>\n",
       "      <th>0</th>\n",
       "      <td>2009-01-02</td>\n",
       "      <td>8772.250000</td>\n",
       "      <td>9065.280273</td>\n",
       "      <td>8760.780273</td>\n",
       "      <td>9034.690430</td>\n",
       "      <td>9034.690430</td>\n",
       "      <td>213700000</td>\n",
       "    </tr>\n",
       "    <tr>\n",
       "      <th>1</th>\n",
       "      <td>2009-01-05</td>\n",
       "      <td>9027.129883</td>\n",
       "      <td>9034.370117</td>\n",
       "      <td>8892.360352</td>\n",
       "      <td>8952.889648</td>\n",
       "      <td>8952.889648</td>\n",
       "      <td>233760000</td>\n",
       "    </tr>\n",
       "    <tr>\n",
       "      <th>2</th>\n",
       "      <td>2009-01-06</td>\n",
       "      <td>8954.570312</td>\n",
       "      <td>9088.059570</td>\n",
       "      <td>8940.950195</td>\n",
       "      <td>9015.099609</td>\n",
       "      <td>9015.099609</td>\n",
       "      <td>215410000</td>\n",
       "    </tr>\n",
       "    <tr>\n",
       "      <th>3</th>\n",
       "      <td>2009-01-07</td>\n",
       "      <td>8996.940430</td>\n",
       "      <td>8996.940430</td>\n",
       "      <td>8719.919922</td>\n",
       "      <td>8769.700195</td>\n",
       "      <td>8769.700195</td>\n",
       "      <td>266710000</td>\n",
       "    </tr>\n",
       "    <tr>\n",
       "      <th>4</th>\n",
       "      <td>2009-01-08</td>\n",
       "      <td>8769.940430</td>\n",
       "      <td>8770.019531</td>\n",
       "      <td>8651.190430</td>\n",
       "      <td>8742.459961</td>\n",
       "      <td>8742.459961</td>\n",
       "      <td>226620000</td>\n",
       "    </tr>\n",
       "    <tr>\n",
       "      <th>...</th>\n",
       "      <td>...</td>\n",
       "      <td>...</td>\n",
       "      <td>...</td>\n",
       "      <td>...</td>\n",
       "      <td>...</td>\n",
       "      <td>...</td>\n",
       "      <td>...</td>\n",
       "    </tr>\n",
       "    <tr>\n",
       "      <th>3016</th>\n",
       "      <td>2020-12-24</td>\n",
       "      <td>30155.919922</td>\n",
       "      <td>30209.669922</td>\n",
       "      <td>30099.300781</td>\n",
       "      <td>30199.869141</td>\n",
       "      <td>30199.869141</td>\n",
       "      <td>145570000</td>\n",
       "    </tr>\n",
       "    <tr>\n",
       "      <th>3017</th>\n",
       "      <td>2020-12-28</td>\n",
       "      <td>30283.230469</td>\n",
       "      <td>30525.560547</td>\n",
       "      <td>30283.230469</td>\n",
       "      <td>30403.970703</td>\n",
       "      <td>30403.970703</td>\n",
       "      <td>302490000</td>\n",
       "    </tr>\n",
       "    <tr>\n",
       "      <th>3018</th>\n",
       "      <td>2020-12-29</td>\n",
       "      <td>30492.070312</td>\n",
       "      <td>30588.789062</td>\n",
       "      <td>30274.240234</td>\n",
       "      <td>30335.669922</td>\n",
       "      <td>30335.669922</td>\n",
       "      <td>357610000</td>\n",
       "    </tr>\n",
       "    <tr>\n",
       "      <th>3019</th>\n",
       "      <td>2020-12-30</td>\n",
       "      <td>30415.089844</td>\n",
       "      <td>30525.349609</td>\n",
       "      <td>30393.039062</td>\n",
       "      <td>30409.560547</td>\n",
       "      <td>30409.560547</td>\n",
       "      <td>291890000</td>\n",
       "    </tr>\n",
       "    <tr>\n",
       "      <th>3020</th>\n",
       "      <td>2020-12-31</td>\n",
       "      <td>30417.640625</td>\n",
       "      <td>30637.470703</td>\n",
       "      <td>30344.500000</td>\n",
       "      <td>30606.480469</td>\n",
       "      <td>30606.480469</td>\n",
       "      <td>284470000</td>\n",
       "    </tr>\n",
       "  </tbody>\n",
       "</table>\n",
       "<p>3021 rows × 7 columns</p>\n",
       "</div>"
      ],
      "text/plain": [
       "           Date          Open          High           Low         Close  \\\n",
       "0    2009-01-02   8772.250000   9065.280273   8760.780273   9034.690430   \n",
       "1    2009-01-05   9027.129883   9034.370117   8892.360352   8952.889648   \n",
       "2    2009-01-06   8954.570312   9088.059570   8940.950195   9015.099609   \n",
       "3    2009-01-07   8996.940430   8996.940430   8719.919922   8769.700195   \n",
       "4    2009-01-08   8769.940430   8770.019531   8651.190430   8742.459961   \n",
       "...         ...           ...           ...           ...           ...   \n",
       "3016 2020-12-24  30155.919922  30209.669922  30099.300781  30199.869141   \n",
       "3017 2020-12-28  30283.230469  30525.560547  30283.230469  30403.970703   \n",
       "3018 2020-12-29  30492.070312  30588.789062  30274.240234  30335.669922   \n",
       "3019 2020-12-30  30415.089844  30525.349609  30393.039062  30409.560547   \n",
       "3020 2020-12-31  30417.640625  30637.470703  30344.500000  30606.480469   \n",
       "\n",
       "         Adj Close     Volume  \n",
       "0      9034.690430  213700000  \n",
       "1      8952.889648  233760000  \n",
       "2      9015.099609  215410000  \n",
       "3      8769.700195  266710000  \n",
       "4      8742.459961  226620000  \n",
       "...            ...        ...  \n",
       "3016  30199.869141  145570000  \n",
       "3017  30403.970703  302490000  \n",
       "3018  30335.669922  357610000  \n",
       "3019  30409.560547  291890000  \n",
       "3020  30606.480469  284470000  \n",
       "\n",
       "[3021 rows x 7 columns]"
      ]
     },
     "execution_count": 4,
     "metadata": {},
     "output_type": "execute_result"
    }
   ],
   "source": [
    "data"
   ]
  },
  {
   "cell_type": "code",
   "execution_count": 5,
   "id": "1f774002",
   "metadata": {},
   "outputs": [
    {
     "name": "stderr",
     "output_type": "stream",
     "text": [
      "No artists with labels found to put in legend.  Note that artists whose label start with an underscore are ignored when legend() is called with no argument.\n"
     ]
    },
    {
     "data": {
      "text/plain": [
       "<function matplotlib.pyplot.show(close=None, block=None)>"
      ]
     },
     "execution_count": 5,
     "metadata": {},
     "output_type": "execute_result"
    },
    {
     "data": {
      "image/png": "[encoded data removed]",
      "text/plain": [
       "<Figure size 640x480 with 1 Axes>"
      ]
     },
     "metadata": {},
     "output_type": "display_data"
    }
   ],
   "source": [
    "plt.plot(train_data['Date'],train_data['Close'], color ='darkblue')\n",
    "plt.plot(test_data['Date'],test_data['Close'],color = 'purple')\n",
    "plt.xlabel('Date')\n",
    "plt.ylabel('Price in USD')\n",
    "\n",
    "plt.legend()\n",
    "plt.show\n"
   ]
  },
  {
   "cell_type": "code",
   "execution_count": 6,
   "id": "eb59c66b",
   "metadata": {
    "scrolled": true
   },
   "outputs": [
    {
     "data": {
      "image/png": "[encoded data removed]",
      "text/plain": [
       "<Figure size 640x480 with 1 Axes>"
      ]
     },
     "metadata": {},
     "output_type": "display_data"
    }
   ],
   "source": [
    "plt.hist(data['Close'],bins = 40)\n",
    "plt.xlabel('Price in USD')\n",
    "plt.ylabel('Frequency')\n",
    "plt.show()"
   ]
  },
  {
   "cell_type": "code",
   "execution_count": 7,
   "id": "4822dd9d",
   "metadata": {},
   "outputs": [
    {
     "data": {
      "image/png": "[encoded data removed]",
      "text/plain": [
       "<Figure size 640x480 with 1 Axes>"
      ]
     },
     "metadata": {},
     "output_type": "display_data"
    }
   ],
   "source": [
    "plt.hist(train_data['Close'],bins = 40)\n",
    "plt.xlabel('Price in USD')\n",
    "plt.ylabel('Frequency')\n",
    "plt.show()"
   ]
  },
  {
   "cell_type": "code",
   "execution_count": 8,
   "id": "c30de827",
   "metadata": {},
   "outputs": [
    {
     "data": {
      "image/png": "[encoded data removed]",
      "text/plain": [
       "<Figure size 640x480 with 1 Axes>"
      ]
     },
     "metadata": {},
     "output_type": "display_data"
    }
   ],
   "source": [
    "plt.hist(test_data['Close'],bins = 40)\n",
    "plt.xlabel('Price in USD')\n",
    "plt.ylabel('Frequency')\n",
    "plt.show()"
   ]
  },
  {
   "cell_type": "code",
   "execution_count": 9,
   "id": "c3c45b99",
   "metadata": {},
   "outputs": [
    {
     "data": {
      "text/plain": [
       "(-0.2374306644271012,\n",
       " 0.933910414810336,\n",
       " 27,\n",
       " 2993,\n",
       " {'1%': -3.432536741492438,\n",
       "  '5%': -2.862506160743024,\n",
       "  '10%': -2.5672843129045173},\n",
       " 40354.406843980214)"
      ]
     },
     "execution_count": 9,
     "metadata": {},
     "output_type": "execute_result"
    }
   ],
   "source": [
    "adfuller(data['Close'])"
   ]
  },
  {
   "cell_type": "code",
   "execution_count": 10,
   "id": "34d234b2",
   "metadata": {},
   "outputs": [
    {
     "data": {
      "text/plain": [
       "(0.7775683223479853,\n",
       " 0.9912653130447012,\n",
       " 5,\n",
       " 2259,\n",
       " {'1%': -3.433248072725654,\n",
       "  '5%': -2.8628202931061955,\n",
       "  '10%': -2.567451559747925},\n",
       " 27858.556193600827)"
      ]
     },
     "execution_count": 10,
     "metadata": {},
     "output_type": "execute_result"
    }
   ],
   "source": [
    "adfuller(train_data['Close'])"
   ]
  },
  {
   "cell_type": "code",
   "execution_count": 11,
   "id": "62d4877f",
   "metadata": {
    "scrolled": true
   },
   "outputs": [
    {
     "data": {
      "text/plain": [
       "(-2.4347580246079366,\n",
       " 0.13216551805070903,\n",
       " 9,\n",
       " 746,\n",
       " {'1%': -3.439146171679794,\n",
       "  '5%': -2.865422101274577,\n",
       "  '10%': -2.568837245865348},\n",
       " 10713.676404706486)"
      ]
     },
     "execution_count": 11,
     "metadata": {},
     "output_type": "execute_result"
    }
   ],
   "source": [
    "adfuller(test_data['Close'])"
   ]
  },
  {
   "cell_type": "code",
   "execution_count": 12,
   "id": "1da58db7",
   "metadata": {},
   "outputs": [
    {
     "ename": "SyntaxError",
     "evalue": "invalid character in identifier (1257628345.py, line 12)",
     "output_type": "error",
     "traceback": [
      "\u001b[0;36m  File \u001b[0;32m\"/var/folders/hz/wjblh5ln7jvdn9hyh03_bl_w0000gn/T/ipykernel_39446/1257628345.py\"\u001b[0;36m, line \u001b[0;32m12\u001b[0m\n\u001b[0;31m    Here’s how to interpret the most important values in the output:\u001b[0m\n\u001b[0m         ^\u001b[0m\n\u001b[0;31mSyntaxError\u001b[0m\u001b[0;31m:\u001b[0m invalid character in identifier\n"
     ]
    }
   ],
   "source": [
    "### EXAMPLE\n",
    "\n",
    "#perform augmented Dickey-Fuller test\n",
    "#adfuller(data)\n",
    "\n",
    "#(-0.9753836234744063,\n",
    "# 0.7621363564361013,\n",
    "# 0,\n",
    "# 12,\n",
    "# {'1%': -4.137829282407408,\n",
    "#  '5%': -3.1549724074074077,\n",
    "#  '10%': -2.7144769444444443},\n",
    "# 31.2466098872313)\n",
    "#Here’s how to interpret the most important values in the output:\n",
    "\n",
    "#Test statistic: -0.97538\n",
    "#P-value: 0.7621\n",
    "#Since the p-value is not less than .05, we fail to reject the null hypothesis.\n",
    "\n",
    "#This means the time series is non-stationary. In other words, it has some time-dependent structure and does not have constant variance over time.\n",
    "\n",
    "\n",
    "## För att få bort non-stationarity kan vi differentiera\n",
    "#df[\"series\"].diff(periods=1)"
   ]
  },
  {
   "cell_type": "code",
   "execution_count": null,
   "id": "9f896bc4",
   "metadata": {},
   "outputs": [],
   "source": []
  }
 ],
 "metadata": {
  "kernelspec": {
   "display_name": "Python 3 (ipykernel)",
   "language": "python",
   "name": "python3"
  },
  "language_info": {
   "codemirror_mode": {
    "name": "ipython",
    "version": 3
   },
   "file_extension": ".py",
   "mimetype": "text/x-python",
   "name": "python",
   "nbconvert_exporter": "python",
   "pygments_lexer": "ipython3",
   "version": "3.7.3"
  }
 },
 "nbformat": 4,
 "nbformat_minor": 5
}
